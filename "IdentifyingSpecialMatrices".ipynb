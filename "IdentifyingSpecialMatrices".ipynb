{
  "nbformat": 4,
  "nbformat_minor": 0,
  "metadata": {
    "coursera": {
      "course_slug": "linear-algebra-machine-learning",
      "graded_item_id": "vhy4M",
      "launcher_item_id": "3vbW4"
    },
    "kernelspec": {
      "display_name": "Python 3",
      "language": "python",
      "name": "python3"
    },
    "language_info": {
      "codemirror_mode": {
        "name": "ipython",
        "version": 3
      },
      "file_extension": ".py",
      "mimetype": "text/x-python",
      "name": "python",
      "nbconvert_exporter": "python",
      "pygments_lexer": "ipython3",
      "version": "3.6.0"
    },
    "colab": {
      "name": "Копия блокнота \" \"IdentifyingSpecialMatrices.ipynb\"\"",
      "provenance": [],
      "collapsed_sections": [],
      "toc_visible": true,
      "include_colab_link": true
    }
  },
  "cells": [
    {
      "cell_type": "markdown",
      "metadata": {
        "id": "view-in-github",
        "colab_type": "text"
      },
      "source": [
        "<a href=\"https://colab.research.google.com/github/Denis2488/DL/blob/master/%22IdentifyingSpecialMatrices%22.ipynb\" target=\"_parent\"><img src=\"https://colab.research.google.com/assets/colab-badge.svg\" alt=\"Open In Colab\"/></a>"
      ]
    },
    {
      "cell_type": "markdown",
      "metadata": {
        "id": "HL_Z9HJwztOO"
      },
      "source": [
        "# Identifying special matrices\n",
        "## Instructions\n",
        "В этом задании вы напишите функцию, которая будет проверять перед вычислением матрицы  4×4, не будет ли она сингулярной, то есть, существует ли к ней инверсия.\n",
        "\n",
        "Используйте метод преобразования матрицы к эшелонированной по строкам форме и проверки, если это не удастся, оставив нули, которые нельзя удалить на главной диагонали.\n",
        "Не беспокойтесь, если вы раньше не программировали, фреймворк для функции уже написан.\n",
        "В коде отмечены места, где надо внести изменения.\n",
        "Первые две строки уже написаны, можно использовать их как подсказку, чтобы сделать последние две.\n",
        "\n",
        "### Матрицы в Python\n",
        "В пакете *numpy* в Python индексация матриц начинается с нуля для самого верхнего столбца и самой левой строки.\n",
        "Т.е. матричная структура выглядит так:\n",
        "\n",
        "```python\n",
        "A[0, 0]  A[0, 1]  A[0, 2]  A[0, 3]\n",
        "A[1, 0]  A[1, 1]  A[1, 2]  A[1, 3]\n",
        "A[2, 0]  A[2, 1]  A[2, 2]  A[2, 3]\n",
        "A[3, 0]  A[3, 1]  A[3, 2]  A[3, 3]\n",
        "```\n",
        "Вы можете получить доступ к значению каждого элемента в отдельности, используя\n",
        "```python\n",
        "A[n, m]\n",
        "```\n",
        "который даст n-ую строку и m-й столбец (начиная с нуля).\n",
        "\n",
        "Вы также можете получить доступ ко всей строке одновременно, используя\n",
        "```python\n",
        "A[n]\n",
        "```\n",
        "как вы увидите, это будет полезно при расчете линейных комбинаций строк.\n",
        "\n",
        "Последнее примечание - Python чувствителен к отступам.\n",
        "Весь код, который надо написать, должен быть на том же уровне отступа, что и комментарий с инструкциями.\n",
        "\n",
        "Пожалуйста, не меняйте имена функций.\n",
        "Удачи!"
      ]
    },
    {
      "cell_type": "code",
      "metadata": {
        "id": "ahEzzUpnztOR"
      },
      "source": [
        "# GRADED FUNCTION\n",
        "import numpy as np\n",
        "\n",
        "# Наша функция будет проходить через матрицу, изменяя каждую строку так, чтобы привести матрицу к эшелонированной форме.\n",
        "# Если в какой-то момент она не сможет поставить 1 в главную диагональ,\n",
        "# мы вернем значение True, в противном случае мы вернем False.\n",
        "# Эту функцию изменять не надо.\n",
        "\n",
        "\n",
        "def isSingular(A) :\n",
        "    B = np.array(A, dtype=np.float_) #  Делает B как копию матрицы A, так как мы будем менять ее значения.\n",
        "    try:\n",
        "        fixRowZero(B)\n",
        "        fixRowOne(B)\n",
        "        fixRowTwo(B)\n",
        "        fixRowThree(B)\n",
        "    except MatrixIsSingular:\n",
        "        return True\n",
        "    return False\n",
        "\n",
        "# Следующая строка определяет наш флаг ошибки, когда что-то идет не так, и это значит матрица сингулярная.\n",
        "# Нет необходимости редактировать эту строку.\n",
        "class MatrixIsSingular(Exception): pass\n",
        "# Для Row Zero все, что нам нужно, это первый элемент, равный 1.\n",
        "# Мы разделим строку на значение A [0, 0].\n",
        "# Однако, если A [0, 0] равно 0, это доставит нам неприятности, поэтому сначала мы ее проверим на ноль,\n",
        "# и если это так,  перед делением мы прибавим одну из нижних строк к первой.\n",
        "# Будем повторять проверку для каждого ряда снизу, пока деление не станет возможным. Если так и не найдем нужную строку, значит, матрица сингулярна\n",
        "# Нет необходимости редактировать эту функцию.\n",
        "\n",
        "def fixRowZero(A) :\n",
        "    if A[0,0] == 0 :\n",
        "        A[0] = A[0] + A[1]\n",
        "    if A[0,0] == 0 :\n",
        "        A[0] = A[0] + A[2]\n",
        "    if A[0,0] == 0 :\n",
        "        A[0] = A[0] + A[3]\n",
        "    if A[0,0] == 0 :\n",
        "        raise MatrixIsSingular()\n",
        "    A[0] = A[0] / A[0,0]\n",
        "    return A\n",
        "\n",
        "# Сначала мы установим элементы под главной диагональю в ноль, то есть A [1,0].\n",
        "# Далее нам надо, чтобы элемент на диагонали был равен единице, и мы разделим строку на значение A [1, 1].\n",
        "# Опять же, нам нужно проверить, не ноль ли это.\n",
        "# Если это так, мы прибавим нижнюю строку и повторим установку поддиагональных элементов в ноль.\n",
        "# Нет необходимости редактировать эту функцию.\n",
        "def fixRowOne(A) :\n",
        "    A[1] = A[1] - A[1,0] * A[0]\n",
        "    if A[1,1] == 0 :\n",
        "        A[1] = A[1] + A[2]\n",
        "        A[1] = A[1] - A[1,0] * A[0]\n",
        "    if A[1,1] == 0 :\n",
        "        A[1] = A[1] + A[3]\n",
        "        A[1] = A[1] - A[1,0] * A[0]\n",
        "    if A[1,1] == 0 :\n",
        "        raise MatrixIsSingular()\n",
        "    A[1] = A[1] / A[1,1]\n",
        "    return A\n",
        "\n",
        "# Это первая функция, которую вы должны выполнить.\n",
        "# Следуйте инструкциям внутри функции при каждом комментарии\n",
        "def fixRowTwo(A) :\n",
        "    # Вставьте код ниже, чтобы установить поддиагональные элементы второй строки в ноль (их два).\n",
        "    A[2] = A[2] - A[2, 0] * A[0]\n",
        "    A[2] = A[2] - A[2, 1] * A[1]\n",
        "    # Далее мы проверим, что диагональный элемент не равен нулю.\n",
        "    if A[2,2] == 0 :\n",
        "        # Вставьте код ниже, который добавляет нижнюю строку в строку 2.\n",
        "        A[2] = A[2] + A[3]\n",
        "        A[2] = A[2] - A[2, 0] * A[0]\n",
        "        # Теперь повторите ваш код, который устанавливает поддиагональные элементы на ноль.\n",
        "        A[2] = A[2] - A[2, 1] * A[1]        \n",
        "    if A[2,2] == 0 :\n",
        "        raise MatrixIsSingular()\n",
        "    # Наконец, установите диагональный элемент в единицу, разделив всю строку на этот элемент.\n",
        "    A[2] = A[2] / A[2, 2]\n",
        "    return A\n",
        "\n",
        "# Вы также должны сами выполнить эту функцию\n",
        "# Следуйте инструкциям внутри функции.\n",
        "def fixRowThree(A) :\n",
        "    # Вставьте код ниже, чтобы установить субдиагональные элементы строки три в ноль.\n",
        "    A[3] = A[3] - A[3, 0] * A[0]\n",
        "    A[3] = A[3] - A[3, 1] * A[1]\n",
        "    A[3] = A[3] - A[3, 2] * A[2]\n",
        "    # Завершите оператор if, чтобы проверить, равен ли диагональный элемент нулю.\n",
        "    if A[3, 3] == 0:\n",
        "        raise MatrixIsSingular()\n",
        "    # Преобразуйте строку, чтобы установить диагональный элемент в единицу.\n",
        "    A[3] = A[3] / A[3, 3]\n",
        "    return A"
      ],
      "execution_count": null,
      "outputs": []
    },
    {
      "cell_type": "markdown",
      "metadata": {
        "id": "VzRS3cCrztOV"
      },
      "source": [
        "## Проверьте свой код перед отправкой\n",
        "Чтобы проверить код, который вы написали выше, запустите ячейку (выберите ячейку выше, затем нажмите кнопку воспроизведения [▶ |] или нажмите Shift-Enter).\n",
        "Затем вы можете использовать приведенный ниже код для проверки вашей функции.\n",
        "Эта ячейка не оценивается; можете изменять и запускать ее сколько угодно.\n",
        "\n",
        "Попробуйте свой код на сложных тестовых случаях!\n"
      ]
    },
    {
      "cell_type": "code",
      "metadata": {
        "collapsed": true,
        "id": "ecfMutZy7pSR",
        "colab": {
          "base_uri": "https://localhost:8080/",
          "height": 231
        },
        "outputId": "f5fabaaa-f027-4907-cb09-7cf08cb7dd93"
      },
      "source": [
        "V = np.array([[1,0,2,6],\n",
        "              [0,1,8,2],\n",
        "              [2,8,3,1],\n",
        "              [1,-6,2,3]], dtype=np.float_)\n",
        "gsBasis4(V)"
      ],
      "execution_count": null,
      "outputs": [
        {
          "output_type": "error",
          "ename": "NameError",
          "evalue": "ignored",
          "traceback": [
            "\u001b[0;31m---------------------------------------------------------------------------\u001b[0m",
            "\u001b[0;31mNameError\u001b[0m                                 Traceback (most recent call last)",
            "\u001b[0;32m<ipython-input-1-63eadbc77b6a>\u001b[0m in \u001b[0;36m<module>\u001b[0;34m()\u001b[0m\n\u001b[0;32m----> 1\u001b[0;31m V = np.array([[1,0,2,6],\n\u001b[0m\u001b[1;32m      2\u001b[0m               \u001b[0;34m[\u001b[0m\u001b[0;36m0\u001b[0m\u001b[0;34m,\u001b[0m\u001b[0;36m1\u001b[0m\u001b[0;34m,\u001b[0m\u001b[0;36m8\u001b[0m\u001b[0;34m,\u001b[0m\u001b[0;36m2\u001b[0m\u001b[0;34m]\u001b[0m\u001b[0;34m,\u001b[0m\u001b[0;34m\u001b[0m\u001b[0;34m\u001b[0m\u001b[0m\n\u001b[1;32m      3\u001b[0m               \u001b[0;34m[\u001b[0m\u001b[0;36m2\u001b[0m\u001b[0;34m,\u001b[0m\u001b[0;36m8\u001b[0m\u001b[0;34m,\u001b[0m\u001b[0;36m3\u001b[0m\u001b[0;34m,\u001b[0m\u001b[0;36m1\u001b[0m\u001b[0;34m]\u001b[0m\u001b[0;34m,\u001b[0m\u001b[0;34m\u001b[0m\u001b[0;34m\u001b[0m\u001b[0m\n\u001b[1;32m      4\u001b[0m               [1,-6,2,3]], dtype=np.float_)\n\u001b[1;32m      5\u001b[0m \u001b[0mgsBasis4\u001b[0m\u001b[0;34m(\u001b[0m\u001b[0mV\u001b[0m\u001b[0;34m)\u001b[0m\u001b[0;34m\u001b[0m\u001b[0;34m\u001b[0m\u001b[0m\n",
            "\u001b[0;31mNameError\u001b[0m: name 'np' is not defined"
          ]
        }
      ]
    },
    {
      "cell_type": "code",
      "metadata": {
        "collapsed": true,
        "id": "_Rw7i7_l7pSS",
        "colab": {
          "base_uri": "https://localhost:8080/",
          "height": 214
        },
        "outputId": "ef1fd47b-9019-4be8-8500-642d7cfe56f1"
      },
      "source": [
        "# Once you've done Gram-Schmidt once,\n",
        "# doing it again should give you the same result. Test this:\n",
        "U = gsBasis4(V)\n",
        "gsBasis4(U)"
      ],
      "execution_count": null,
      "outputs": [
        {
          "output_type": "error",
          "ename": "NameError",
          "evalue": "ignored",
          "traceback": [
            "\u001b[0;31m---------------------------------------------------------------------------\u001b[0m",
            "\u001b[0;31mNameError\u001b[0m                                 Traceback (most recent call last)",
            "\u001b[0;32m<ipython-input-2-c8258b7f6bde>\u001b[0m in \u001b[0;36m<module>\u001b[0;34m()\u001b[0m\n\u001b[1;32m      1\u001b[0m \u001b[0;31m# Once you've done Gram-Schmidt once,\u001b[0m\u001b[0;34m\u001b[0m\u001b[0;34m\u001b[0m\u001b[0;34m\u001b[0m\u001b[0m\n\u001b[1;32m      2\u001b[0m \u001b[0;31m# doing it again should give you the same result. Test this:\u001b[0m\u001b[0;34m\u001b[0m\u001b[0;34m\u001b[0m\u001b[0;34m\u001b[0m\u001b[0m\n\u001b[0;32m----> 3\u001b[0;31m \u001b[0mU\u001b[0m \u001b[0;34m=\u001b[0m \u001b[0mgsBasis4\u001b[0m\u001b[0;34m(\u001b[0m\u001b[0mV\u001b[0m\u001b[0;34m)\u001b[0m\u001b[0;34m\u001b[0m\u001b[0;34m\u001b[0m\u001b[0m\n\u001b[0m\u001b[1;32m      4\u001b[0m \u001b[0mgsBasis4\u001b[0m\u001b[0;34m(\u001b[0m\u001b[0mU\u001b[0m\u001b[0;34m)\u001b[0m\u001b[0;34m\u001b[0m\u001b[0;34m\u001b[0m\u001b[0m\n",
            "\u001b[0;31mNameError\u001b[0m: name 'V' is not defined"
          ]
        }
      ]
    },
    {
      "cell_type": "code",
      "metadata": {
        "collapsed": true,
        "id": "aRf3IrQm7pSS",
        "colab": {
          "base_uri": "https://localhost:8080/"
        },
        "outputId": "4bcc587f-0967-4151-8092-8ed18c86bfe0"
      },
      "source": [
        "# Try the general function too.\n",
        "gsBasis(V)"
      ],
      "execution_count": null,
      "outputs": [
        {
          "output_type": "execute_result",
          "data": {
            "text/plain": [
              "array([[ 0.40824829, -0.1814885 ,  0.04982278,  0.89325973],\n",
              "       [ 0.        ,  0.1088931 ,  0.99349591, -0.03328918],\n",
              "       [ 0.81649658,  0.50816781, -0.06462163, -0.26631346],\n",
              "       [ 0.40824829, -0.83484711,  0.07942048, -0.36063281]])"
            ]
          },
          "metadata": {
            "tags": []
          },
          "execution_count": 4
        }
      ]
    },
    {
      "cell_type": "code",
      "metadata": {
        "collapsed": true,
        "id": "KVi1n-sJ7pST",
        "colab": {
          "base_uri": "https://localhost:8080/"
        },
        "outputId": "3b943501-0015-420c-aaf9-25f9b64d48e8"
      },
      "source": [
        "# See what happens for non-square matrices\n",
        "A = np.array([[3,2,3],\n",
        "              [2,5,-1],\n",
        "              [2,4,8],\n",
        "              [12,2,1]], dtype=np.float_)\n",
        "gsBasis(A)"
      ],
      "execution_count": null,
      "outputs": [
        {
          "output_type": "execute_result",
          "data": {
            "text/plain": [
              "array([[ 0.23643312,  0.18771349,  0.22132104],\n",
              "       [ 0.15762208,  0.74769023, -0.64395812],\n",
              "       [ 0.15762208,  0.57790444,  0.72904263],\n",
              "       [ 0.94573249, -0.26786082, -0.06951101]])"
            ]
          },
          "metadata": {
            "tags": []
          },
          "execution_count": 5
        }
      ]
    },
    {
      "cell_type": "code",
      "metadata": {
        "collapsed": true,
        "id": "Xt_4xal17pST",
        "colab": {
          "base_uri": "https://localhost:8080/",
          "height": 163
        },
        "outputId": "0a30bbd7-4197-4feb-db89-518648a89440"
      },
      "source": [
        "dimensions(A)"
      ],
      "execution_count": null,
      "outputs": [
        {
          "output_type": "error",
          "ename": "NameError",
          "evalue": "ignored",
          "traceback": [
            "\u001b[0;31m---------------------------------------------------------------------------\u001b[0m",
            "\u001b[0;31mNameError\u001b[0m                                 Traceback (most recent call last)",
            "\u001b[0;32m<ipython-input-1-70e795687288>\u001b[0m in \u001b[0;36m<module>\u001b[0;34m()\u001b[0m\n\u001b[0;32m----> 1\u001b[0;31m \u001b[0mdimensions\u001b[0m\u001b[0;34m(\u001b[0m\u001b[0mA\u001b[0m\u001b[0;34m)\u001b[0m\u001b[0;34m\u001b[0m\u001b[0;34m\u001b[0m\u001b[0m\n\u001b[0m",
            "\u001b[0;31mNameError\u001b[0m: name 'dimensions' is not defined"
          ]
        }
      ]
    },
    {
      "cell_type": "code",
      "metadata": {
        "collapsed": true,
        "id": "VxRWuXY-7pST",
        "colab": {
          "base_uri": "https://localhost:8080/"
        },
        "outputId": "b70f2fed-7932-4048-fabd-9761c6b2c732"
      },
      "source": [
        "B = np.array([[6,2,1,7,5],\n",
        "              [2,8,5,-4,1],\n",
        "              [1,-6,3,2,8]], dtype=np.float_)\n",
        "gsBasis(B)"
      ],
      "execution_count": null,
      "outputs": [
        {
          "output_type": "execute_result",
          "data": {
            "text/plain": [
              "array([[ 0.93704257, -0.12700832, -0.32530002,  0.        ,  0.        ],\n",
              "       [ 0.31234752,  0.72140727,  0.61807005,  0.        ,  0.        ],\n",
              "       [ 0.15617376, -0.6807646 ,  0.71566005,  0.        ,  0.        ]])"
            ]
          },
          "metadata": {
            "tags": []
          },
          "execution_count": 7
        }
      ]
    },
    {
      "cell_type": "code",
      "metadata": {
        "id": "3dBMTcJ27pSU",
        "colab": {
          "base_uri": "https://localhost:8080/"
        },
        "outputId": "336e8407-5085-4769-93ba-6d37a302fb44"
      },
      "source": [
        "dimensions(B)"
      ],
      "execution_count": null,
      "outputs": [
        {
          "output_type": "execute_result",
          "data": {
            "text/plain": [
              "3.0"
            ]
          },
          "metadata": {
            "tags": []
          },
          "execution_count": 8
        }
      ]
    },
    {
      "cell_type": "code",
      "metadata": {
        "id": "_Modlwty7pSU",
        "colab": {
          "base_uri": "https://localhost:8080/"
        },
        "outputId": "a709eb7c-9b28-4c9b-d402-55cf7eac7b62"
      },
      "source": [
        "# Now let's see what happens when we have one vector that is a linear combination of the others.\n",
        "C = np.array([[1,0,2],\n",
        "              [0,1,-3],\n",
        "              [1,0,2]], dtype=np.float_)\n",
        "gsBasis(C)"
      ],
      "execution_count": null,
      "outputs": [
        {
          "output_type": "execute_result",
          "data": {
            "text/plain": [
              "array([[0.70710678, 0.        , 0.        ],\n",
              "       [0.        , 1.        , 0.        ],\n",
              "       [0.70710678, 0.        , 0.        ]])"
            ]
          },
          "metadata": {
            "tags": []
          },
          "execution_count": 9
        }
      ]
    },
    {
      "cell_type": "code",
      "metadata": {
        "id": "n9tqtkhF7pSU",
        "colab": {
          "base_uri": "https://localhost:8080/"
        },
        "outputId": "d0ff7719-25d4-410d-8cb0-5a9de203556a"
      },
      "source": [
        "dimensions(C)"
      ],
      "execution_count": null,
      "outputs": [
        {
          "output_type": "execute_result",
          "data": {
            "text/plain": [
              "2.0"
            ]
          },
          "metadata": {
            "tags": []
          },
          "execution_count": 10
        }
      ]
    }
  ]
}